{
 "cells": [
  {
   "cell_type": "code",
   "execution_count": 449,
   "metadata": {},
   "outputs": [],
   "source": [
    "import pandas as pd \n",
    "import numpy as np\n",
    "import matplotlib.pyplot as plt"
   ]
  },
  {
   "cell_type": "markdown",
   "metadata": {},
   "source": [
    "# Part 1\n"
   ]
  },
  {
   "cell_type": "code",
   "execution_count": 450,
   "metadata": {},
   "outputs": [],
   "source": [
    "dataset = pd.read_csv('data10.csv')"
   ]
  },
  {
   "cell_type": "code",
   "execution_count": 451,
   "metadata": {},
   "outputs": [
    {
     "data": {
      "text/html": [
       "<div>\n",
       "<style scoped>\n",
       "    .dataframe tbody tr th:only-of-type {\n",
       "        vertical-align: middle;\n",
       "    }\n",
       "\n",
       "    .dataframe tbody tr th {\n",
       "        vertical-align: top;\n",
       "    }\n",
       "\n",
       "    .dataframe thead th {\n",
       "        text-align: right;\n",
       "    }\n",
       "</style>\n",
       "<table border=\"1\" class=\"dataframe\">\n",
       "  <thead>\n",
       "    <tr style=\"text-align: right;\">\n",
       "      <th></th>\n",
       "      <th>x</th>\n",
       "      <th>y</th>\n",
       "    </tr>\n",
       "  </thead>\n",
       "  <tbody>\n",
       "    <tr>\n",
       "      <th>0</th>\n",
       "      <td>0.0</td>\n",
       "      <td>3.638739</td>\n",
       "    </tr>\n",
       "    <tr>\n",
       "      <th>1</th>\n",
       "      <td>0.1</td>\n",
       "      <td>-3.133920</td>\n",
       "    </tr>\n",
       "    <tr>\n",
       "      <th>2</th>\n",
       "      <td>0.2</td>\n",
       "      <td>1.175217</td>\n",
       "    </tr>\n",
       "    <tr>\n",
       "      <th>3</th>\n",
       "      <td>0.3</td>\n",
       "      <td>3.958919</td>\n",
       "    </tr>\n",
       "    <tr>\n",
       "      <th>4</th>\n",
       "      <td>0.4</td>\n",
       "      <td>9.229480</td>\n",
       "    </tr>\n",
       "  </tbody>\n",
       "</table>\n",
       "</div>"
      ],
      "text/plain": [
       "     x         y\n",
       "0  0.0  3.638739\n",
       "1  0.1 -3.133920\n",
       "2  0.2  1.175217\n",
       "3  0.3  3.958919\n",
       "4  0.4  9.229480"
      ]
     },
     "execution_count": 451,
     "metadata": {},
     "output_type": "execute_result"
    }
   ],
   "source": [
    "\n",
    "dataset.head()"
   ]
  },
  {
   "cell_type": "code",
   "execution_count": 452,
   "metadata": {},
   "outputs": [
    {
     "name": "stdout",
     "output_type": "stream",
     "text": [
      "<class 'pandas.core.frame.DataFrame'>\n",
      "RangeIndex: 230 entries, 0 to 229\n",
      "Data columns (total 2 columns):\n",
      " #   Column  Non-Null Count  Dtype  \n",
      "---  ------  --------------  -----  \n",
      " 0   x       230 non-null    float64\n",
      " 1   y       230 non-null    float64\n",
      "dtypes: float64(2)\n",
      "memory usage: 3.7 KB\n"
     ]
    }
   ],
   "source": [
    "dataset.info()"
   ]
  },
  {
   "cell_type": "code",
   "execution_count": 453,
   "metadata": {},
   "outputs": [
    {
     "data": {
      "text/html": [
       "<div>\n",
       "<style scoped>\n",
       "    .dataframe tbody tr th:only-of-type {\n",
       "        vertical-align: middle;\n",
       "    }\n",
       "\n",
       "    .dataframe tbody tr th {\n",
       "        vertical-align: top;\n",
       "    }\n",
       "\n",
       "    .dataframe thead th {\n",
       "        text-align: right;\n",
       "    }\n",
       "</style>\n",
       "<table border=\"1\" class=\"dataframe\">\n",
       "  <thead>\n",
       "    <tr style=\"text-align: right;\">\n",
       "      <th></th>\n",
       "      <th>count</th>\n",
       "      <th>mean</th>\n",
       "      <th>std</th>\n",
       "      <th>min</th>\n",
       "      <th>25%</th>\n",
       "      <th>50%</th>\n",
       "      <th>75%</th>\n",
       "      <th>max</th>\n",
       "    </tr>\n",
       "  </thead>\n",
       "  <tbody>\n",
       "    <tr>\n",
       "      <th>x</th>\n",
       "      <td>230.0</td>\n",
       "      <td>11.450000</td>\n",
       "      <td>6.653946</td>\n",
       "      <td>0.00000</td>\n",
       "      <td>5.725000</td>\n",
       "      <td>11.450000</td>\n",
       "      <td>17.175000</td>\n",
       "      <td>22.900000</td>\n",
       "    </tr>\n",
       "    <tr>\n",
       "      <th>y</th>\n",
       "      <td>230.0</td>\n",
       "      <td>25.852397</td>\n",
       "      <td>13.726889</td>\n",
       "      <td>-3.13392</td>\n",
       "      <td>13.701272</td>\n",
       "      <td>26.221472</td>\n",
       "      <td>36.755471</td>\n",
       "      <td>51.926774</td>\n",
       "    </tr>\n",
       "  </tbody>\n",
       "</table>\n",
       "</div>"
      ],
      "text/plain": [
       "   count       mean        std      min        25%        50%        75%  \\\n",
       "x  230.0  11.450000   6.653946  0.00000   5.725000  11.450000  17.175000   \n",
       "y  230.0  25.852397  13.726889 -3.13392  13.701272  26.221472  36.755471   \n",
       "\n",
       "         max  \n",
       "x  22.900000  \n",
       "y  51.926774  "
      ]
     },
     "execution_count": 453,
     "metadata": {},
     "output_type": "execute_result"
    }
   ],
   "source": [
    "dataset.describe().T"
   ]
  },
  {
   "cell_type": "code",
   "execution_count": 454,
   "metadata": {},
   "outputs": [
    {
     "data": {
      "text/plain": [
       "<matplotlib.collections.PathCollection at 0x196154d0>"
      ]
     },
     "execution_count": 454,
     "metadata": {},
     "output_type": "execute_result"
    },
    {
     "data": {
      "image/png": "[encoded data removed]",
      "text/plain": [
       "<Figure size 432x288 with 1 Axes>"
      ]
     },
     "metadata": {
      "needs_background": "light"
     },
     "output_type": "display_data"
    }
   ],
   "source": [
    " plt.scatter(dataset.x, dataset.y)"
   ]
  },
  {
   "cell_type": "code",
   "execution_count": 455,
   "metadata": {},
   "outputs": [],
   "source": [
    "def h(x,w,b):\n",
    "    return x*w + b"
   ]
  },
  {
   "cell_type": "code",
   "execution_count": 456,
   "metadata": {},
   "outputs": [],
   "source": [
    "def emp_err(X,Y,w,b):\n",
    "    n=len(X)\n",
    "    Ls=0\n",
    "    for i in range(n):\n",
    "        Ls+=pow(h(X[i],w,b)-Y[i],2)\n",
    "    Ls=Ls/float(n)\n",
    "    return Ls"
   ]
  },
  {
   "cell_type": "code",
   "execution_count": 457,
   "metadata": {},
   "outputs": [],
   "source": [
    "def gradient(X,Y,w,b):\n",
    "    dw=0\n",
    "    db=0\n",
    "    n=len(X)\n",
    "    for i in range(n):\n",
    "        dw+=(h(X[i],w,b)-Y[i])*X[i]    \n",
    "        db+=(h(X[i],w,b)-Y[i])\n",
    "    dw=2*dw/n\n",
    "    db=2*db/n\n",
    "    return dw,db"
   ]
  },
  {
   "cell_type": "code",
   "execution_count": 458,
   "metadata": {},
   "outputs": [],
   "source": [
    "def armijo(X,Y,w,b):\n",
    "    beta=0.1\n",
    "    eps=1\n",
    "    dw,db=gradient(X,Y,w,b)\n",
    "    while(emp_err(X,Y,w-eps*dw,b-eps*db)>emp_err(X,Y,w,b)-(eps/2)*(db**2 + dw**2)):\n",
    "        eps=eps*beta\n",
    "    return eps\n",
    "    "
   ]
  },
  {
   "cell_type": "code",
   "execution_count": 459,
   "metadata": {},
   "outputs": [],
   "source": [
    "import random\n",
    "def gradient_descent(X,Y,alpha,n_iter):\n",
    "    w=random.random()\n",
    "    b=random.random()\n",
    "    n=float(len(X))\n",
    "    loss=[]\n",
    "    loss.append(emp_err(X,Y,w,b))\n",
    "    print(\"error before : \" ,emp_err(X,Y,w,b))\n",
    "    \n",
    "    if alpha==0:\n",
    "        for i in range(n_iter):\n",
    "            dw,db = gradient(X,Y,w,b)\n",
    "            alpha=armijo(X,Y,w,b)\n",
    "            b = b - alpha * db\n",
    "            w = w - alpha * dw\n",
    "            \n",
    "            loss.append(emp_err(X,Y,w,b))\n",
    "    else:\n",
    "        for i in range(n_iter):\n",
    "            dw,db = gradient(X,Y,w,b)\n",
    "        \n",
    "            b = b - alpha * db\n",
    "            w = w - alpha * dw\n",
    "        \n",
    "            loss.append(emp_err(X,Y,w,b))\n",
    "    print(\"error after : \" ,emp_err(X,Y,w,b))\n",
    "\n",
    "    return w,b,loss,alpha"
   ]
  },
  {
   "cell_type": "code",
   "execution_count": 460,
   "metadata": {},
   "outputs": [],
   "source": [
    "dataset.x= [(x - np.mean(dataset.x))/(np.std(dataset.x)) for x in dataset.x]\n",
    "dataset.y= [(y - np.mean(dataset.y))/(np.std(dataset.y)) for y in dataset.y]\n",
    "#split data into train and test\n",
    "datatrain=dataset.sample(frac=0.70,random_state=1234)\n",
    "datatest=dataset.drop(datatrain.index)\n",
    "X_train=np.array(datatrain.x)\n",
    "X_test=np.array(datatest.x)\n",
    "Y_train=np.array(datatrain.y)\n",
    "Y_test=np.array(datatest.y)"
   ]
  },
  {
   "cell_type": "code",
   "execution_count": 461,
   "metadata": {},
   "outputs": [
    {
     "name": "stdout",
     "output_type": "stream",
     "text": [
      "error before :  0.7419905658071332\n",
      "error after :  0.048952255983978996\n"
     ]
    },
    {
     "data": {
      "image/png": "[encoded data removed]",
      "text/plain": [
       "<Figure size 432x288 with 1 Axes>"
      ]
     },
     "metadata": {
      "needs_background": "light"
     },
     "output_type": "display_data"
    }
   ],
   "source": [
    "w,b,loss,alpha=gradient_descent(X_train,Y_train,0.01,1000)\n",
    "w,b\n",
    "fig, l = plt.subplots()\n",
    "l.plot(loss,label=\"empirical error\")\n",
    "l.set_xlabel(\"number of iterations\")\n",
    "l.set_ylabel(\"error\")\n",
    "if (alpha in [0.01,0.02,0.03]):\n",
    "    leg=\"learning rate=\" + str(alpha)\n",
    "else:\n",
    "    leg=\"armijo's rule\"\n",
    "l.legend(loc=0)\n",
    "l.set_title(leg)\n",
    "fig.savefig(f'{leg}_accuracy.png')"
   ]
  },
  {
   "cell_type": "code",
   "execution_count": 462,
   "metadata": {},
   "outputs": [
    {
     "name": "stdout",
     "output_type": "stream",
     "text": [
      "error before :  1.4061976745025673\n",
      "error after :  0.048952255983978996\n"
     ]
    },
    {
     "data": {
      "image/png": "[encoded data removed]",
      "text/plain": [
       "<Figure size 432x288 with 1 Axes>"
      ]
     },
     "metadata": {
      "needs_background": "light"
     },
     "output_type": "display_data"
    }
   ],
   "source": [
    "w,b,loss,alpha=gradient_descent(X_train,Y_train,0.02,1000)\n",
    "w,b\n",
    "fig, l = plt.subplots()\n",
    "l.plot(loss,label=\"empirical error\")\n",
    "l.set_xlabel(\"number of iterations\")\n",
    "l.set_ylabel(\"error\")\n",
    "if (alpha in [0.01,0.02,0.03]):\n",
    "    leg=\"learning rate=\" + str(alpha)\n",
    "else:\n",
    "    leg=\"armijo's rule\"\n",
    "l.legend(loc=0)\n",
    "l.set_title(leg)\n",
    "fig.savefig(f'{leg}_accuracy.png')"
   ]
  },
  {
   "cell_type": "code",
   "execution_count": 463,
   "metadata": {},
   "outputs": [
    {
     "name": "stdout",
     "output_type": "stream",
     "text": [
      "error before :  0.14849103490774587\n",
      "error after :  0.04895225598397899\n"
     ]
    },
    {
     "data": {
      "image/png": "[encoded data removed]",
      "text/plain": [
       "<Figure size 432x288 with 1 Axes>"
      ]
     },
     "metadata": {
      "needs_background": "light"
     },
     "output_type": "display_data"
    }
   ],
   "source": [
    "w,b,loss,alpha=gradient_descent(X_train,Y_train,0.03,1000)\n",
    "w,b\n",
    "fig, l = plt.subplots()\n",
    "l.plot(loss,label=\"empirical error\")\n",
    "l.set_xlabel(\"number of iterations\")\n",
    "l.set_ylabel(\"error\")\n",
    "if (alpha in [0.01,0.02,0.03]):\n",
    "    leg=\"learning rate=\" + str(alpha)\n",
    "else:\n",
    "    leg=\"armijo's rule\"\n",
    "l.legend(loc=0)\n",
    "l.set_title(leg)\n",
    "fig.savefig(f'{leg}_accuracy.png')"
   ]
  },
  {
   "cell_type": "code",
   "execution_count": 464,
   "metadata": {},
   "outputs": [
    {
     "name": "stdout",
     "output_type": "stream",
     "text": [
      "error before :  0.8706376354214569\n",
      "error after :  0.04895225598397899\n"
     ]
    },
    {
     "data": {
      "image/png": "[encoded data removed]",
      "text/plain": [
       "<Figure size 432x288 with 1 Axes>"
      ]
     },
     "metadata": {
      "needs_background": "light"
     },
     "output_type": "display_data"
    }
   ],
   "source": [
    "w,b,loss,alpha=gradient_descent(X_train,Y_train,0,1000)\n",
    "w,b\n",
    "fig, l = plt.subplots()\n",
    "l.plot(loss,label=\"empirical error\")\n",
    "l.set_xlabel(\"number of iterations\")\n",
    "l.set_ylabel(\"error\")\n",
    "if (alpha in [0.01,0.02,0.03]):\n",
    "    leg=\"learning rate=\" + str(alpha)\n",
    "else:\n",
    "    leg=\"armijo's rule\"\n",
    "l.legend(loc=0)\n",
    "l.set_title(leg)\n",
    "fig.savefig(f'{leg}_accuracy.png')"
   ]
  },
  {
   "cell_type": "code",
   "execution_count": 465,
   "metadata": {},
   "outputs": [
    {
     "data": {
      "text/plain": [
       "Text(0, 0.5, 'Y')"
      ]
     },
     "execution_count": 465,
     "metadata": {},
     "output_type": "execute_result"
    },
    {
     "data": {
      "image/png": "[encoded data removed]",
      "text/plain": [
       "<Figure size 432x288 with 1 Axes>"
      ]
     },
     "metadata": {
      "needs_background": "light"
     },
     "output_type": "display_data"
    }
   ],
   "source": [
    "plt.scatter(X_test, Y_test,label='testing data ')\n",
    "\n",
    "plt.plot(X_test,h(X_test,w,b),  color='red',label='predicting model')\n",
    "\n",
    "plt.scatter(X_train, Y_train,color='orange',label='training data ')\n",
    "plt.legend(loc=0)\n",
    "plt.xlabel(\"X\")\n",
    "plt.ylabel(\"Y\")"
   ]
  },
  {
   "cell_type": "code",
   "execution_count": 466,
   "metadata": {},
   "outputs": [],
   "source": [
    "def predict(X,w,b):\n",
    "    Y_pred=[]\n",
    "    for i in range(len(X)):\n",
    "        Y_pred.append(h(X[i],w,b))\n",
    "    return Y_pred"
   ]
  },
  {
   "cell_type": "code",
   "execution_count": 467,
   "metadata": {},
   "outputs": [],
   "source": [
    "Y_pred=predict(X_test,w,b)"
   ]
  },
  {
   "cell_type": "code",
   "execution_count": 468,
   "metadata": {},
   "outputs": [],
   "source": [
    "def gen_error(X,Y,w,b):\n",
    "    n=len(X)\n",
    "    Ls=0\n",
    "    for i in range(n):\n",
    "        Ls+=pow(h(X[i],w,b)-Y[i],2)\n",
    "    Ls=Ls/float(n)\n",
    "    return Ls\n"
   ]
  },
  {
   "cell_type": "code",
   "execution_count": 469,
   "metadata": {},
   "outputs": [
    {
     "data": {
      "text/plain": [
       "0.04151881350483494"
      ]
     },
     "execution_count": 469,
     "metadata": {},
     "output_type": "execute_result"
    }
   ],
   "source": [
    "gen_error(X_test,Y_test,w,b)"
   ]
  },
  {
   "cell_type": "code",
   "execution_count": 470,
   "metadata": {},
   "outputs": [],
   "source": [
    "y_bar=(1/Y_test.shape[0])*np.sum(Y_test)\n",
    "t1 = np.sum(pow(Y_pred - Y_test,2))\n",
    "t2 = (np.sum(pow(Y_test-y_bar,2)))\n",
    "acc = 1-(t1/t2)"
   ]
  },
  {
   "cell_type": "code",
   "execution_count": 471,
   "metadata": {},
   "outputs": [
    {
     "name": "stdout",
     "output_type": "stream",
     "text": [
      "accuracy :  0.9584335855900288\n"
     ]
    }
   ],
   "source": [
    "print(\"accuracy : \" , acc)"
   ]
  },
  {
   "cell_type": "markdown",
   "metadata": {},
   "source": [
    "# part 2\n"
   ]
  },
  {
   "cell_type": "code",
   "execution_count": 472,
   "metadata": {},
   "outputs": [],
   "source": [
    "data = pd.read_csv('data2.csv')"
   ]
  },
  {
   "cell_type": "code",
   "execution_count": 473,
   "metadata": {},
   "outputs": [
    {
     "data": {
      "text/html": [
       "<div>\n",
       "<style scoped>\n",
       "    .dataframe tbody tr th:only-of-type {\n",
       "        vertical-align: middle;\n",
       "    }\n",
       "\n",
       "    .dataframe tbody tr th {\n",
       "        vertical-align: top;\n",
       "    }\n",
       "\n",
       "    .dataframe thead th {\n",
       "        text-align: right;\n",
       "    }\n",
       "</style>\n",
       "<table border=\"1\" class=\"dataframe\">\n",
       "  <thead>\n",
       "    <tr style=\"text-align: right;\">\n",
       "      <th></th>\n",
       "      <th>x</th>\n",
       "      <th>y</th>\n",
       "    </tr>\n",
       "  </thead>\n",
       "  <tbody>\n",
       "    <tr>\n",
       "      <th>0</th>\n",
       "      <td>0.0</td>\n",
       "      <td>2137.883328</td>\n",
       "    </tr>\n",
       "    <tr>\n",
       "      <th>1</th>\n",
       "      <td>0.1</td>\n",
       "      <td>913.025002</td>\n",
       "    </tr>\n",
       "    <tr>\n",
       "      <th>2</th>\n",
       "      <td>0.2</td>\n",
       "      <td>-1055.282076</td>\n",
       "    </tr>\n",
       "    <tr>\n",
       "      <th>3</th>\n",
       "      <td>0.3</td>\n",
       "      <td>5462.955629</td>\n",
       "    </tr>\n",
       "    <tr>\n",
       "      <th>4</th>\n",
       "      <td>0.4</td>\n",
       "      <td>-2704.467669</td>\n",
       "    </tr>\n",
       "  </tbody>\n",
       "</table>\n",
       "</div>"
      ],
      "text/plain": [
       "     x            y\n",
       "0  0.0  2137.883328\n",
       "1  0.1   913.025002\n",
       "2  0.2 -1055.282076\n",
       "3  0.3  5462.955629\n",
       "4  0.4 -2704.467669"
      ]
     },
     "execution_count": 473,
     "metadata": {},
     "output_type": "execute_result"
    }
   ],
   "source": [
    "data.head()"
   ]
  },
  {
   "cell_type": "code",
   "execution_count": 474,
   "metadata": {},
   "outputs": [
    {
     "name": "stdout",
     "output_type": "stream",
     "text": [
      "<class 'pandas.core.frame.DataFrame'>\n",
      "RangeIndex: 240 entries, 0 to 239\n",
      "Data columns (total 2 columns):\n",
      " #   Column  Non-Null Count  Dtype  \n",
      "---  ------  --------------  -----  \n",
      " 0   x       240 non-null    float64\n",
      " 1   y       240 non-null    float64\n",
      "dtypes: float64(2)\n",
      "memory usage: 3.8 KB\n"
     ]
    }
   ],
   "source": [
    "data.info()"
   ]
  },
  {
   "cell_type": "code",
   "execution_count": 475,
   "metadata": {},
   "outputs": [
    {
     "data": {
      "text/html": [
       "<div>\n",
       "<style scoped>\n",
       "    .dataframe tbody tr th:only-of-type {\n",
       "        vertical-align: middle;\n",
       "    }\n",
       "\n",
       "    .dataframe tbody tr th {\n",
       "        vertical-align: top;\n",
       "    }\n",
       "\n",
       "    .dataframe thead th {\n",
       "        text-align: right;\n",
       "    }\n",
       "</style>\n",
       "<table border=\"1\" class=\"dataframe\">\n",
       "  <thead>\n",
       "    <tr style=\"text-align: right;\">\n",
       "      <th></th>\n",
       "      <th>count</th>\n",
       "      <th>mean</th>\n",
       "      <th>std</th>\n",
       "      <th>min</th>\n",
       "      <th>25%</th>\n",
       "      <th>50%</th>\n",
       "      <th>75%</th>\n",
       "      <th>max</th>\n",
       "    </tr>\n",
       "  </thead>\n",
       "  <tbody>\n",
       "    <tr>\n",
       "      <th>x</th>\n",
       "      <td>240.0</td>\n",
       "      <td>11.950000</td>\n",
       "      <td>6.942622</td>\n",
       "      <td>0.000000</td>\n",
       "      <td>5.975000</td>\n",
       "      <td>11.950000</td>\n",
       "      <td>17.925000</td>\n",
       "      <td>23.900000</td>\n",
       "    </tr>\n",
       "    <tr>\n",
       "      <th>y</th>\n",
       "      <td>240.0</td>\n",
       "      <td>3826.370144</td>\n",
       "      <td>4687.055597</td>\n",
       "      <td>-5774.231262</td>\n",
       "      <td>268.910441</td>\n",
       "      <td>3123.561976</td>\n",
       "      <td>6822.938649</td>\n",
       "      <td>19580.343309</td>\n",
       "    </tr>\n",
       "  </tbody>\n",
       "</table>\n",
       "</div>"
      ],
      "text/plain": [
       "   count         mean          std          min         25%          50%  \\\n",
       "x  240.0    11.950000     6.942622     0.000000    5.975000    11.950000   \n",
       "y  240.0  3826.370144  4687.055597 -5774.231262  268.910441  3123.561976   \n",
       "\n",
       "           75%           max  \n",
       "x    17.925000     23.900000  \n",
       "y  6822.938649  19580.343309  "
      ]
     },
     "execution_count": 475,
     "metadata": {},
     "output_type": "execute_result"
    }
   ],
   "source": [
    "data.describe().T"
   ]
  },
  {
   "cell_type": "code",
   "execution_count": 476,
   "metadata": {},
   "outputs": [
    {
     "data": {
      "text/plain": [
       "<matplotlib.collections.PathCollection at 0x1970dc10>"
      ]
     },
     "execution_count": 476,
     "metadata": {},
     "output_type": "execute_result"
    },
    {
     "data": {
      "image/png": "[encoded data removed]",
      "text/plain": [
       "<Figure size 432x288 with 1 Axes>"
      ]
     },
     "metadata": {
      "needs_background": "light"
     },
     "output_type": "display_data"
    }
   ],
   "source": [
    " plt.scatter(data.x, data.y)"
   ]
  },
  {
   "cell_type": "code",
   "execution_count": 477,
   "metadata": {},
   "outputs": [],
   "source": [
    "def h_pol(x,W,b,k):\n",
    "    f = b\n",
    "    for i in range(k):\n",
    "       f += W[i]*(x**(i+1))\n",
    "    return f "
   ]
  },
  {
   "cell_type": "code",
   "execution_count": 478,
   "metadata": {},
   "outputs": [],
   "source": [
    "def emp_err_pol(X,Y,w,b,k):\n",
    "    n=len(X)\n",
    "    Ls=0\n",
    "    for i in range(n):\n",
    "        Ls+=pow(h_pol(X[i],w,b,k)-Y[i],2)\n",
    "    Ls=Ls/float(n)\n",
    "    return Ls"
   ]
  },
  {
   "cell_type": "code",
   "execution_count": 479,
   "metadata": {},
   "outputs": [],
   "source": [
    "def gradient_pol(X,Y,w,b,k):\n",
    "    dw=np.zeros((k,1))\n",
    "    db=0\n",
    "    n=len(X)\n",
    "    for i in range(n):\n",
    "        for j in range(k):\n",
    "            dw[j]+=(X[i]**(j+1))*(h_pol(X[i],w,b,k)-Y[i])\n",
    "        db += h_pol(X[i],w,b,k) - Y[i]\n",
    "    dw=[2*x/float(n) for x in dw]\n",
    "    db=2*db/float(n)\n",
    "    return np.array(dw),db[0]"
   ]
  },
  {
   "cell_type": "code",
   "execution_count": 480,
   "metadata": {},
   "outputs": [],
   "source": [
    "import random\n",
    "def gradient_descent_pol(X,Y,alpha,n_iter,k):\n",
    "    w= np.random.rand(k, 1)\n",
    "    b=0\n",
    "    loss=[]\n",
    "    loss.append(emp_err_pol(X,Y,w,b,k))\n",
    "    print(\"empirical error before : \" ,emp_err_pol(X,Y,w,b,k))\n",
    "    for i in range(n_iter):\n",
    "        dw,db = gradient_pol(X,Y,w,b,k)\n",
    "        for j in range(k):    \n",
    "            w[j] = w[j] - alpha * dw[j]\n",
    "        b = b - alpha * db\n",
    "        loss.append(emp_err_pol(X,Y,w,b,k))\n",
    "        \n",
    "    print(\"empirical error after : \" ,emp_err_pol(X,Y,w,b,k))\n",
    "\n",
    "    return w,b,loss"
   ]
  },
  {
   "cell_type": "code",
   "execution_count": 481,
   "metadata": {},
   "outputs": [],
   "source": [
    "data.x= [(x - np.mean(data.x))/(np.std(data.x)) for x in data.x]\n",
    "data.y= [(y - np.mean(data.y))/(np.std(data.y)) for y in data.y]\n",
    "#splitting data\n",
    "datatrain=data.sample(frac=0.70,random_state=16)\n",
    "datatest=data.drop(datatrain.index)\n",
    "X_train=np.array(datatrain.x)\n",
    "X_test=np.array(datatest.x)\n",
    "Y_train=np.array(datatrain.y)\n",
    "Y_test=np.array(datatest.y)"
   ]
  },
  {
   "cell_type": "code",
   "execution_count": 482,
   "metadata": {},
   "outputs": [
    {
     "name": "stdout",
     "output_type": "stream",
     "text": [
      "empirical error before :  [0.41490143]\n",
      "empirical error after :  [0.26270819]\n"
     ]
    },
    {
     "data": {
      "text/plain": [
       "<matplotlib.legend.Legend at 0x19730fd0>"
      ]
     },
     "execution_count": 482,
     "metadata": {},
     "output_type": "execute_result"
    },
    {
     "data": {
      "image/png": "[encoded data removed]",
      "text/plain": [
       "<Figure size 432x288 with 1 Axes>"
      ]
     },
     "metadata": {
      "needs_background": "light"
     },
     "output_type": "display_data"
    }
   ],
   "source": [
    "w,b,loss=gradient_descent_pol(X_train,Y_train,0.01,1000,3)\n",
    "w,b\n",
    "plt.plot(loss,label='empirical error')\n",
    "plt.legend(loc=0)"
   ]
  },
  {
   "cell_type": "code",
   "execution_count": 483,
   "metadata": {},
   "outputs": [
    {
     "data": {
      "text/plain": [
       "<matplotlib.legend.Legend at 0x19787830>"
      ]
     },
     "execution_count": 483,
     "metadata": {},
     "output_type": "execute_result"
    },
    {
     "data": {
      "image/png": "[encoded data removed]",
      "text/plain": [
       "<Figure size 432x288 with 1 Axes>"
      ]
     },
     "metadata": {
      "needs_background": "light"
     },
     "output_type": "display_data"
    }
   ],
   "source": [
    "plt.scatter(X_test, Y_test,label='testing data ')\n",
    "\n",
    "plt.plot(X_test,h_pol(X_test,w,b,2),  color='red',label='predicting model')\n",
    "\n",
    "plt.scatter(X_train, Y_train,color='orange',label='training data ')\n",
    "plt.legend(loc=0)"
   ]
  },
  {
   "cell_type": "code",
   "execution_count": 484,
   "metadata": {},
   "outputs": [],
   "source": [
    "def predict_pol(X,w,b,k):\n",
    "    Y_pred=[]\n",
    "    for i in range( len(X)):\n",
    "        Y_pred.append(h_pol(X[i],w,b,k))\n",
    "    return Y_pred"
   ]
  },
  {
   "cell_type": "code",
   "execution_count": 485,
   "metadata": {},
   "outputs": [],
   "source": [
    "Y_pred=predict_pol(X_test,w,b,2)"
   ]
  },
  {
   "cell_type": "code",
   "execution_count": 486,
   "metadata": {},
   "outputs": [],
   "source": [
    "def gen_error_pol(X,Y,w,b,k):\n",
    "    n=len(X)\n",
    "    Ls=0\n",
    "    for i in range(n):\n",
    "        Ls+=pow(h_pol(X[i],w,b,k)-Y[i],2)\n",
    "    Ls=Ls/float(n)\n",
    "    return Ls"
   ]
  },
  {
   "cell_type": "code",
   "execution_count": 487,
   "metadata": {},
   "outputs": [
    {
     "data": {
      "text/plain": [
       "[array([-0.18495571]),\n",
       " array([-0.21109946]),\n",
       " array([-0.23648983]),\n",
       " array([-0.28501038]),\n",
       " array([-0.30814058]),\n",
       " array([-0.31942316]),\n",
       " array([-0.33051738]),\n",
       " array([-0.3521408]),\n",
       " array([-0.38316332]),\n",
       " array([-0.40290327]),\n",
       " array([-0.41249072]),\n",
       " array([-0.44895706]),\n",
       " array([-0.47432916]),\n",
       " array([-0.51998799]),\n",
       " array([-0.54027472]),\n",
       " array([-0.54666027]),\n",
       " array([-0.56468684]),\n",
       " array([-0.57576281]),\n",
       " array([-0.62639748]),\n",
       " array([-0.63724859]),\n",
       " array([-0.64340928]),\n",
       " array([-0.64898666]),\n",
       " array([-0.65172059]),\n",
       " array([-0.64116066]),\n",
       " array([-0.63432539]),\n",
       " array([-0.62257484]),\n",
       " array([-0.61916633]),\n",
       " array([-0.58511777]),\n",
       " array([-0.55167077]),\n",
       " array([-0.54543705]),\n",
       " array([-0.53240458]),\n",
       " array([-0.50407947]),\n",
       " array([-0.49652732]),\n",
       " array([-0.48878683]),\n",
       " array([-0.46443526]),\n",
       " array([-0.45594138]),\n",
       " array([-0.44725915]),\n",
       " array([-0.42932965]),\n",
       " array([-0.41064676]),\n",
       " array([-0.39121048]),\n",
       " array([-0.38120982]),\n",
       " array([-0.37102082]),\n",
       " array([-0.19558404]),\n",
       " array([-0.18238147]),\n",
       " array([-0.16899056]),\n",
       " array([-0.1416437]),\n",
       " array([0.00639144]),\n",
       " array([0.02223087]),\n",
       " array([0.03825864]),\n",
       " array([0.07087923]),\n",
       " array([0.12122271]),\n",
       " array([0.19098421]),\n",
       " array([0.22699504]),\n",
       " array([0.24528298]),\n",
       " array([0.39836699]),\n",
       " array([0.43852146]),\n",
       " array([0.54220373]),\n",
       " array([0.74069767]),\n",
       " array([0.88150259]),\n",
       " array([0.9056293]),\n",
       " array([0.95444774]),\n",
       " array([0.97913949]),\n",
       " array([1.00401958]),\n",
       " array([1.07978994]),\n",
       " array([1.37211732]),\n",
       " array([1.39982262]),\n",
       " array([1.42771626]),\n",
       " array([1.45579826]),\n",
       " array([1.59903344]),\n",
       " array([1.71701183]),\n",
       " array([1.77713111]),\n",
       " array([1.86872264])]"
      ]
     },
     "execution_count": 487,
     "metadata": {},
     "output_type": "execute_result"
    }
   ],
   "source": [
    "Y_pred"
   ]
  },
  {
   "cell_type": "code",
   "execution_count": 488,
   "metadata": {},
   "outputs": [
    {
     "name": "stdout",
     "output_type": "stream",
     "text": [
      "generalization error :  0.25850758760136966\n"
     ]
    }
   ],
   "source": [
    "print(\"generalization error : \" ,gen_error_pol(X_test,Y_test,w,b,2)[0])"
   ]
  },
  {
   "cell_type": "markdown",
   "metadata": {},
   "source": [
    "# Part 3"
   ]
  },
  {
   "cell_type": "code",
   "execution_count": 489,
   "metadata": {},
   "outputs": [],
   "source": [
    "data3 = pd.read_csv('data2.csv')"
   ]
  },
  {
   "cell_type": "code",
   "execution_count": 490,
   "metadata": {},
   "outputs": [],
   "source": [
    "import math \n",
    "def sigmoid(x,w,b):\n",
    "    return 1.0/(1+np.exp(-(x*w + b)))"
   ]
  },
  {
   "cell_type": "code",
   "execution_count": 491,
   "metadata": {},
   "outputs": [],
   "source": [
    "data3.x= [(x-np.min(data3.x))/(np.max(data3.x)-np.min(data3.x)) for x in data3.x]\n",
    "data3.y= [(y - np.min(data3.y))/(np.max(data3.y)-np.min(data3.y)) for y in data3.y]\n",
    "#splitting data\n",
    "datatrain=data3.sample(frac=0.70,random_state=24)\n",
    "datatest=data3.drop(datatrain.index)\n",
    "X_train=np.array(datatrain.x)\n",
    "X_test=np.array(datatest.x)\n",
    "Y_train=np.array(datatrain.y)\n",
    "Y_test=np.array(datatest.y)"
   ]
  },
  {
   "cell_type": "code",
   "execution_count": 492,
   "metadata": {},
   "outputs": [],
   "source": [
    "def err(X,Y,w,b):\n",
    "    n=len(X)\n",
    "    Ls=0\n",
    "    for i in range(n):\n",
    "        Ls+=Y[i]*math.log(sigmoid(X[i],w,b))+(1-Y[i])*math.log(1-sigmoid(X[i],w,b))\n",
    "    Ls=-Ls/float(n)\n",
    "    return Ls"
   ]
  },
  {
   "cell_type": "code",
   "execution_count": 493,
   "metadata": {},
   "outputs": [],
   "source": [
    "def gradient_log(X,Y,w,b):\n",
    "    dw=0\n",
    "    db=0\n",
    "    n=len(X)\n",
    "    for i in range(n):\n",
    "        dw+=(sigmoid(X[i],w,b)-Y[i])*X[i]    \n",
    "        db+=(sigmoid(X[i],w,b)-Y[i])\n",
    "    dw=dw/float(n)\n",
    "    db=db/float(n)\n",
    "    return dw,db"
   ]
  },
  {
   "cell_type": "code",
   "execution_count": 494,
   "metadata": {},
   "outputs": [],
   "source": [
    "import random\n",
    "def gradient_descent_log(X,Y,alpha,n_iter):\n",
    "    w=0\n",
    "    b=0\n",
    "    n=float(len(X))\n",
    "    loss=[]\n",
    "    loss.append(err(X,Y,w,b))\n",
    "    print(\"error before : \" ,err(X,Y,w,b))\n",
    "    for i in range(n_iter):\n",
    "        dw,db = gradient_log(X,Y,w,b)\n",
    "        \n",
    "        b = b - alpha * db\n",
    "        w = w - alpha * dw\n",
    "        loss.append(err(X,Y,w,b))\n",
    "    print(\"error after : \" ,err(X,Y,w,b))\n",
    "\n",
    "    return w,b,loss"
   ]
  },
  {
   "cell_type": "code",
   "execution_count": 495,
   "metadata": {},
   "outputs": [
    {
     "name": "stdout",
     "output_type": "stream",
     "text": [
      "error before :  0.6931471805599464\n",
      "error after :  0.6227069372655132\n"
     ]
    },
    {
     "data": {
      "text/plain": [
       "[<matplotlib.lines.Line2D at 0x198144f0>]"
      ]
     },
     "execution_count": 495,
     "metadata": {},
     "output_type": "execute_result"
    },
    {
     "data": {
      "image/png": "[encoded data removed]",
      "text/plain": [
       "<Figure size 432x288 with 1 Axes>"
      ]
     },
     "metadata": {
      "needs_background": "light"
     },
     "output_type": "display_data"
    }
   ],
   "source": [
    "w,b,loss=gradient_descent_log(X_train,Y_train,0.01,10000)\n",
    "w,b\n",
    "plt.plot(loss)"
   ]
  },
  {
   "cell_type": "code",
   "execution_count": 496,
   "metadata": {},
   "outputs": [
    {
     "data": {
      "text/plain": [
       "<matplotlib.legend.Legend at 0x19834710>"
      ]
     },
     "execution_count": 496,
     "metadata": {},
     "output_type": "execute_result"
    },
    {
     "data": {
      "image/png": "[encoded data removed]",
      "text/plain": [
       "<Figure size 432x288 with 1 Axes>"
      ]
     },
     "metadata": {
      "needs_background": "light"
     },
     "output_type": "display_data"
    }
   ],
   "source": [
    "plt.scatter(X_test, Y_test,label='testing data ')\n",
    "\n",
    "plt.plot(X_test,sigmoid(X_test,w,b),  color='red',label='decision function')\n",
    "\n",
    "plt.scatter(X_train, Y_train,color='orange',label='training data ')\n",
    "plt.legend(loc=0)"
   ]
  },
  {
   "cell_type": "code",
   "execution_count": 497,
   "metadata": {},
   "outputs": [
    {
     "data": {
      "text/plain": [
       "array([0.21496804, 0.21614776, 0.21971503, 0.22091348, 0.2233244 ,\n",
       "       0.22575401, 0.23315472, 0.24456892, 0.24586022, 0.25238537,\n",
       "       0.25370408, 0.26306163, 0.2685074 , 0.26987993, 0.28242986,\n",
       "       0.28384595, 0.28955293, 0.29678134, 0.29970173, 0.30411296,\n",
       "       0.30856051, 0.310051  , 0.31154545, 0.32211559, 0.32670282,\n",
       "       0.32823935, 0.32977957, 0.34066223, 0.34380331, 0.34537901,\n",
       "       0.35012642, 0.35810478, 0.36131855, 0.36616251, 0.37429582,\n",
       "       0.37921045, 0.38085424, 0.38250077, 0.38745642, 0.39576739,\n",
       "       0.397437  , 0.40078337, 0.40246005, 0.40413901, 0.40582022,\n",
       "       0.40750364, 0.4142587 , 0.42104615, 0.42445128, 0.43128277,\n",
       "       0.43814052, 0.45365325, 0.45538302, 0.45711386, 0.46231246,\n",
       "       0.46751926, 0.47273315, 0.47621245, 0.48666288, 0.49886915,\n",
       "       0.5058457 , 0.51804756, 0.52848974, 0.53196539, 0.5423724 ,\n",
       "       0.54583365, 0.54929048, 0.56649688, 0.57333716, 0.57674697,\n",
       "       0.5801495 , 0.58354442])"
      ]
     },
     "execution_count": 497,
     "metadata": {},
     "output_type": "execute_result"
    }
   ],
   "source": [
    "sigmoid(X_test,w,b)"
   ]
  },
  {
   "cell_type": "code",
   "execution_count": 498,
   "metadata": {},
   "outputs": [
    {
     "data": {
      "text/plain": [
       "array([0.44320156, 0.12107336, 0.30720016, 0.23431267, 0.26737309,\n",
       "       0.20061112, 0.19019274, 0.        , 0.25293348, 0.07070265,\n",
       "       0.23476086, 0.36961793, 0.42557861, 0.37060957, 0.13862998,\n",
       "       0.35490496, 0.21498264, 0.21304947, 0.31789145, 0.31334913,\n",
       "       0.25386274, 0.33350675, 0.23889821, 0.31193925, 0.30737737,\n",
       "       0.20567201, 0.31113522, 0.18595727, 0.15223117, 0.27820361,\n",
       "       0.2674271 , 0.54951068, 0.1938335 , 0.35857396, 0.19389967,\n",
       "       0.23130914, 0.29264688, 0.38823429, 0.275264  , 0.3406426 ,\n",
       "       0.23331384, 0.26651959, 0.38921208, 0.26871354, 0.4287937 ,\n",
       "       0.21089317, 0.44038242, 0.27895778, 0.48199761, 0.13454795,\n",
       "       0.5134808 , 0.41005511, 0.2771171 , 0.45648688, 0.43750302,\n",
       "       0.52721842, 0.46673839, 0.33851592, 0.49985395, 0.53000831,\n",
       "       0.53661106, 0.57955503, 0.63492024, 0.67792562, 0.58105577,\n",
       "       0.73738163, 0.55058255, 0.60715371, 0.69816857, 0.64132714,\n",
       "       0.77003786, 0.72958137])"
      ]
     },
     "execution_count": 498,
     "metadata": {},
     "output_type": "execute_result"
    }
   ],
   "source": [
    "Y_test"
   ]
  },
  {
   "cell_type": "code",
   "execution_count": null,
   "metadata": {},
   "outputs": [],
   "source": []
  }
 ],
 "metadata": {
  "kernelspec": {
   "display_name": "Python 3",
   "language": "python",
   "name": "python3"
  },
  "language_info": {
   "codemirror_mode": {
    "name": "ipython",
    "version": 3
   },
   "file_extension": ".py",
   "mimetype": "text/x-python",
   "name": "python",
   "nbconvert_exporter": "python",
   "pygments_lexer": "ipython3",
   "version": "3.7.0"
  }
 },
 "nbformat": 4,
 "nbformat_minor": 2
}
