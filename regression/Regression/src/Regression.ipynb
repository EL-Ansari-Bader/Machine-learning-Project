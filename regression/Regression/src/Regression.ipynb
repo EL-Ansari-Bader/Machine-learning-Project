{
 "cells": [
  {
   "cell_type": "code",
   "execution_count": 1,
   "metadata": {},
   "outputs": [],
   "source": [
    "import pandas as pd \n",
    "import numpy as np\n",
    "import matplotlib.pyplot as plt"
   ]
  },
  {
   "cell_type": "markdown",
   "metadata": {},
   "source": [
    "# Part 1\n"
   ]
  },
  {
   "cell_type": "code",
   "execution_count": 2,
   "metadata": {},
   "outputs": [],
   "source": [
    "dataset = pd.read_csv('data10.csv')"
   ]
  },
  {
   "cell_type": "code",
   "execution_count": 3,
   "metadata": {},
   "outputs": [
    {
     "data": {
      "text/html": [
       "<div>\n",
       "<style scoped>\n",
       "    .dataframe tbody tr th:only-of-type {\n",
       "        vertical-align: middle;\n",
       "    }\n",
       "\n",
       "    .dataframe tbody tr th {\n",
       "        vertical-align: top;\n",
       "    }\n",
       "\n",
       "    .dataframe thead th {\n",
       "        text-align: right;\n",
       "    }\n",
       "</style>\n",
       "<table border=\"1\" class=\"dataframe\">\n",
       "  <thead>\n",
       "    <tr style=\"text-align: right;\">\n",
       "      <th></th>\n",
       "      <th>x</th>\n",
       "      <th>y</th>\n",
       "    </tr>\n",
       "  </thead>\n",
       "  <tbody>\n",
       "    <tr>\n",
       "      <th>0</th>\n",
       "      <td>0.0</td>\n",
       "      <td>3.638739</td>\n",
       "    </tr>\n",
       "    <tr>\n",
       "      <th>1</th>\n",
       "      <td>0.1</td>\n",
       "      <td>-3.133920</td>\n",
       "    </tr>\n",
       "    <tr>\n",
       "      <th>2</th>\n",
       "      <td>0.2</td>\n",
       "      <td>1.175217</td>\n",
       "    </tr>\n",
       "    <tr>\n",
       "      <th>3</th>\n",
       "      <td>0.3</td>\n",
       "      <td>3.958919</td>\n",
       "    </tr>\n",
       "    <tr>\n",
       "      <th>4</th>\n",
       "      <td>0.4</td>\n",
       "      <td>9.229480</td>\n",
       "    </tr>\n",
       "  </tbody>\n",
       "</table>\n",
       "</div>"
      ],
      "text/plain": [
       "     x         y\n",
       "0  0.0  3.638739\n",
       "1  0.1 -3.133920\n",
       "2  0.2  1.175217\n",
       "3  0.3  3.958919\n",
       "4  0.4  9.229480"
      ]
     },
     "execution_count": 3,
     "metadata": {},
     "output_type": "execute_result"
    }
   ],
   "source": [
    "\n",
    "dataset.head()"
   ]
  },
  {
   "cell_type": "code",
   "execution_count": 4,
   "metadata": {},
   "outputs": [
    {
     "name": "stdout",
     "output_type": "stream",
     "text": [
      "<class 'pandas.core.frame.DataFrame'>\n",
      "RangeIndex: 230 entries, 0 to 229\n",
      "Data columns (total 2 columns):\n",
      " #   Column  Non-Null Count  Dtype  \n",
      "---  ------  --------------  -----  \n",
      " 0   x       230 non-null    float64\n",
      " 1   y       230 non-null    float64\n",
      "dtypes: float64(2)\n",
      "memory usage: 3.7 KB\n"
     ]
    }
   ],
   "source": [
    "dataset.info()"
   ]
  },
  {
   "cell_type": "code",
   "execution_count": 5,
   "metadata": {},
   "outputs": [
    {
     "data": {
      "text/html": [
       "<div>\n",
       "<style scoped>\n",
       "    .dataframe tbody tr th:only-of-type {\n",
       "        vertical-align: middle;\n",
       "    }\n",
       "\n",
       "    .dataframe tbody tr th {\n",
       "        vertical-align: top;\n",
       "    }\n",
       "\n",
       "    .dataframe thead th {\n",
       "        text-align: right;\n",
       "    }\n",
       "</style>\n",
       "<table border=\"1\" class=\"dataframe\">\n",
       "  <thead>\n",
       "    <tr style=\"text-align: right;\">\n",
       "      <th></th>\n",
       "      <th>count</th>\n",
       "      <th>mean</th>\n",
       "      <th>std</th>\n",
       "      <th>min</th>\n",
       "      <th>25%</th>\n",
       "      <th>50%</th>\n",
       "      <th>75%</th>\n",
       "      <th>max</th>\n",
       "    </tr>\n",
       "  </thead>\n",
       "  <tbody>\n",
       "    <tr>\n",
       "      <th>x</th>\n",
       "      <td>230.0</td>\n",
       "      <td>11.450000</td>\n",
       "      <td>6.653946</td>\n",
       "      <td>0.00000</td>\n",
       "      <td>5.725000</td>\n",
       "      <td>11.450000</td>\n",
       "      <td>17.175000</td>\n",
       "      <td>22.900000</td>\n",
       "    </tr>\n",
       "    <tr>\n",
       "      <th>y</th>\n",
       "      <td>230.0</td>\n",
       "      <td>25.852397</td>\n",
       "      <td>13.726889</td>\n",
       "      <td>-3.13392</td>\n",
       "      <td>13.701272</td>\n",
       "      <td>26.221472</td>\n",
       "      <td>36.755471</td>\n",
       "      <td>51.926774</td>\n",
       "    </tr>\n",
       "  </tbody>\n",
       "</table>\n",
       "</div>"
      ],
      "text/plain": [
       "   count       mean        std      min        25%        50%        75%  \\\n",
       "x  230.0  11.450000   6.653946  0.00000   5.725000  11.450000  17.175000   \n",
       "y  230.0  25.852397  13.726889 -3.13392  13.701272  26.221472  36.755471   \n",
       "\n",
       "         max  \n",
       "x  22.900000  \n",
       "y  51.926774  "
      ]
     },
     "execution_count": 5,
     "metadata": {},
     "output_type": "execute_result"
    }
   ],
   "source": [
    "dataset.describe().T"
   ]
  },
  {
   "cell_type": "code",
   "execution_count": 6,
   "metadata": {},
   "outputs": [
    {
     "data": {
      "text/plain": [
       "<matplotlib.collections.PathCollection at 0x14e7f2d0>"
      ]
     },
     "execution_count": 6,
     "metadata": {},
     "output_type": "execute_result"
    },
    {
     "data": {
      "image/png": "[encoded data removed]",
      "text/plain": [
       "<Figure size 432x288 with 1 Axes>"
      ]
     },
     "metadata": {
      "needs_background": "light"
     },
     "output_type": "display_data"
    }
   ],
   "source": [
    " plt.scatter(dataset.x, dataset.y)"
   ]
  },
  {
   "cell_type": "code",
   "execution_count": 7,
   "metadata": {},
   "outputs": [],
   "source": [
    "def h(x,w,b):\n",
    "    return x*w + b"
   ]
  },
  {
   "cell_type": "code",
   "execution_count": 8,
   "metadata": {},
   "outputs": [],
   "source": [
    "def emp_err(X,Y,w,b):\n",
    "    n=len(X)\n",
    "    Ls=0\n",
    "    for i in range(n):\n",
    "        Ls+=pow(h(X[i],w,b)-Y[i],2)\n",
    "    Ls=Ls/float(n)\n",
    "    return Ls"
   ]
  },
  {
   "cell_type": "code",
   "execution_count": 9,
   "metadata": {},
   "outputs": [],
   "source": [
    "def gradient(X,Y,w,b):\n",
    "    dw=0\n",
    "    db=0\n",
    "    n=len(X)\n",
    "    for i in range(n):\n",
    "        dw+=(h(X[i],w,b)-Y[i])*X[i]    \n",
    "        db+=(h(X[i],w,b)-Y[i])\n",
    "    dw=2*dw/n\n",
    "    db=2*db/n\n",
    "    return dw,db"
   ]
  },
  {
   "cell_type": "code",
   "execution_count": 10,
   "metadata": {},
   "outputs": [],
   "source": [
    "def armijo(X,Y,w,b):\n",
    "    beta=0.1\n",
    "    eps=1\n",
    "    dw,db=gradient(X,Y,w,b)\n",
    "    while(emp_err(X,Y,w-eps*dw,b-eps*db)>emp_err(X,Y,w,b)-(eps/2)*(db**2 + dw**2)):\n",
    "        eps=eps*beta\n",
    "    return eps\n",
    "    "
   ]
  },
  {
   "cell_type": "code",
   "execution_count": 11,
   "metadata": {},
   "outputs": [],
   "source": [
    "import random\n",
    "def gradient_descent(X,Y,alpha,n_iter):\n",
    "    w=random.random()\n",
    "    b=random.random()\n",
    "    n=float(len(X))\n",
    "    loss=[]\n",
    "    loss.append(emp_err(X,Y,w,b))\n",
    "    print(\"error before : \" ,emp_err(X,Y,w,b))\n",
    "    \n",
    "    if alpha==0:\n",
    "        for i in range(n_iter):\n",
    "            dw,db = gradient(X,Y,w,b)\n",
    "            alpha=armijo(X,Y,w,b)\n",
    "            b = b - alpha * db\n",
    "            w = w - alpha * dw\n",
    "            \n",
    "            loss.append(emp_err(X,Y,w,b))\n",
    "    else:\n",
    "        for i in range(n_iter):\n",
    "            dw,db = gradient(X,Y,w,b)\n",
    "        \n",
    "            b = b - alpha * db\n",
    "            w = w - alpha * dw\n",
    "        \n",
    "            loss.append(emp_err(X,Y,w,b))\n",
    "    print(\"error after : \" ,emp_err(X,Y,w,b))\n",
    "\n",
    "    return w,b,loss,alpha"
   ]
  },
  {
   "cell_type": "code",
   "execution_count": 12,
   "metadata": {},
   "outputs": [],
   "source": [
    "dataset.x= [(x - np.mean(dataset.x))/(np.std(dataset.x)) for x in dataset.x]\n",
    "dataset.y= [(y - np.mean(dataset.y))/(np.std(dataset.y)) for y in dataset.y]\n",
    "#split data into train and test\n",
    "datatrain=dataset.sample(frac=0.70,random_state=1234)\n",
    "datatest=dataset.drop(datatrain.index)\n",
    "X_train=np.array(datatrain.x)\n",
    "X_test=np.array(datatest.x)\n",
    "Y_train=np.array(datatrain.y)\n",
    "Y_test=np.array(datatest.y)"
   ]
  },
  {
   "cell_type": "code",
   "execution_count": 13,
   "metadata": {},
   "outputs": [
    {
     "name": "stdout",
     "output_type": "stream",
     "text": [
      "error before :  0.23802149402482542\n",
      "error after :  0.04895225598397901\n"
     ]
    },
    {
     "data": {
      "image/png": "[encoded data removed]",
      "text/plain": [
       "<Figure size 432x288 with 1 Axes>"
      ]
     },
     "metadata": {
      "needs_background": "light"
     },
     "output_type": "display_data"
    }
   ],
   "source": [
    "w,b,loss,alpha=gradient_descent(X_train,Y_train,0.01,1000)\n",
    "w,b\n",
    "fig, l = plt.subplots()\n",
    "l.plot(loss,label=\"empirical error\")\n",
    "l.set_xlabel(\"number of iterations\")\n",
    "l.set_ylabel(\"error\")\n",
    "if (alpha in [0.01,0.02,0.03]):\n",
    "    leg=\"learning rate=\" + str(alpha)\n",
    "else:\n",
    "    leg=\"armijo's rule\"\n",
    "l.legend(loc=0)\n",
    "l.set_title(leg)\n",
    "fig.savefig(f'{leg}_accuracy.png')"
   ]
  },
  {
   "cell_type": "code",
   "execution_count": 14,
   "metadata": {},
   "outputs": [
    {
     "name": "stdout",
     "output_type": "stream",
     "text": [
      "error before :  0.8298076498953809\n",
      "error after :  0.048952255983978996\n"
     ]
    },
    {
     "data": {
      "image/png": "[encoded data removed]",
      "text/plain": [
       "<Figure size 432x288 with 1 Axes>"
      ]
     },
     "metadata": {
      "needs_background": "light"
     },
     "output_type": "display_data"
    }
   ],
   "source": [
    "w,b,loss,alpha=gradient_descent(X_train,Y_train,0.02,1000)\n",
    "w,b\n",
    "fig, l = plt.subplots()\n",
    "l.plot(loss,label=\"empirical error\")\n",
    "l.set_xlabel(\"number of iterations\")\n",
    "l.set_ylabel(\"error\")\n",
    "if (alpha in [0.01,0.02,0.03]):\n",
    "    leg=\"learning rate=\" + str(alpha)\n",
    "else:\n",
    "    leg=\"armijo's rule\"\n",
    "l.legend(loc=0)\n",
    "l.set_title(leg)\n",
    "fig.savefig(f'{leg}_accuracy.png')"
   ]
  },
  {
   "cell_type": "code",
   "execution_count": 15,
   "metadata": {},
   "outputs": [
    {
     "name": "stdout",
     "output_type": "stream",
     "text": [
      "error before :  1.0441154176311291\n",
      "error after :  0.04895225598397899\n"
     ]
    },
    {
     "data": {
      "image/png": "[encoded data removed]",
      "text/plain": [
       "<Figure size 432x288 with 1 Axes>"
      ]
     },
     "metadata": {
      "needs_background": "light"
     },
     "output_type": "display_data"
    }
   ],
   "source": [
    "w,b,loss,alpha=gradient_descent(X_train,Y_train,0.03,1000)\n",
    "w,b\n",
    "fig, l = plt.subplots()\n",
    "l.plot(loss,label=\"empirical error\")\n",
    "l.set_xlabel(\"number of iterations\")\n",
    "l.set_ylabel(\"error\")\n",
    "if (alpha in [0.01,0.02,0.03]):\n",
    "    leg=\"learning rate=\" + str(alpha)\n",
    "else:\n",
    "    leg=\"armijo's rule\"\n",
    "l.legend(loc=0)\n",
    "l.set_title(leg)\n",
    "fig.savefig(f'{leg}_accuracy.png')"
   ]
  },
  {
   "cell_type": "code",
   "execution_count": 16,
   "metadata": {},
   "outputs": [
    {
     "name": "stdout",
     "output_type": "stream",
     "text": [
      "error before :  0.8397100092754053\n",
      "error after :  0.04895225598397907\n"
     ]
    },
    {
     "data": {
      "image/png": "[encoded data removed]",
      "text/plain": [
       "<Figure size 432x288 with 1 Axes>"
      ]
     },
     "metadata": {
      "needs_background": "light"
     },
     "output_type": "display_data"
    }
   ],
   "source": [
    "w,b,loss,alpha=gradient_descent(X_train,Y_train,0,1000)\n",
    "w,b\n",
    "fig, l = plt.subplots()\n",
    "l.plot(loss,label=\"empirical error\")\n",
    "l.set_xlabel(\"number of iterations\")\n",
    "l.set_ylabel(\"error\")\n",
    "if (alpha in [0.01,0.02,0.03]):\n",
    "    leg=\"learning rate=\" + str(alpha)\n",
    "else:\n",
    "    leg=\"armijo's rule\"\n",
    "l.legend(loc=0)\n",
    "l.set_title(leg)\n",
    "fig.savefig(f'{leg}_accuracy.png')"
   ]
  },
  {
   "cell_type": "code",
   "execution_count": 17,
   "metadata": {},
   "outputs": [
    {
     "data": {
      "text/plain": [
       "Text(0, 0.5, 'Y')"
      ]
     },
     "execution_count": 17,
     "metadata": {},
     "output_type": "execute_result"
    },
    {
     "data": {
      "image/png": "[encoded data removed]",
      "text/plain": [
       "<Figure size 432x288 with 1 Axes>"
      ]
     },
     "metadata": {
      "needs_background": "light"
     },
     "output_type": "display_data"
    }
   ],
   "source": [
    "plt.scatter(X_test, Y_test,label='testing data ')\n",
    "\n",
    "plt.plot(X_test,h(X_test,w,b),  color='red',label='predicting model')\n",
    "\n",
    "plt.scatter(X_train, Y_train,color='orange',label='training data ')\n",
    "plt.legend(loc=0)\n",
    "plt.xlabel(\"X\")\n",
    "plt.ylabel(\"Y\")"
   ]
  },
  {
   "cell_type": "code",
   "execution_count": 18,
   "metadata": {},
   "outputs": [],
   "source": [
    "def predict(X,w,b):\n",
    "    Y_pred=[]\n",
    "    for i in range(len(X)):\n",
    "        Y_pred.append(h(X[i],w,b))\n",
    "    return Y_pred"
   ]
  },
  {
   "cell_type": "code",
   "execution_count": 19,
   "metadata": {},
   "outputs": [],
   "source": [
    "Y_pred=predict(X_test,w,b)"
   ]
  },
  {
   "cell_type": "code",
   "execution_count": 20,
   "metadata": {},
   "outputs": [],
   "source": [
    "def gen_error(X,Y,w,b):\n",
    "    n=len(X)\n",
    "    Ls=0\n",
    "    for i in range(n):\n",
    "        Ls+=pow(h(X[i],w,b)-Y[i],2)\n",
    "    Ls=Ls/float(n)\n",
    "    return Ls\n"
   ]
  },
  {
   "cell_type": "code",
   "execution_count": 21,
   "metadata": {},
   "outputs": [
    {
     "data": {
      "text/plain": [
       "0.0415188133081238"
      ]
     },
     "execution_count": 21,
     "metadata": {},
     "output_type": "execute_result"
    }
   ],
   "source": [
    "gen_error(X_test,Y_test,w,b)"
   ]
  },
  {
   "cell_type": "code",
   "execution_count": 22,
   "metadata": {},
   "outputs": [],
   "source": [
    "y_bar=(1/Y_test.shape[0])*np.sum(Y_test)\n",
    "t1 = np.sum(pow(Y_pred - Y_test,2))\n",
    "t2 = (np.sum(pow(Y_test-y_bar,2)))\n",
    "acc = 1-(t1/t2)"
   ]
  },
  {
   "cell_type": "code",
   "execution_count": 23,
   "metadata": {},
   "outputs": [
    {
     "name": "stdout",
     "output_type": "stream",
     "text": [
      "accuracy :  0.9584335857869655\n"
     ]
    }
   ],
   "source": [
    "print(\"accuracy : \" , acc)"
   ]
  },
  {
   "cell_type": "markdown",
   "metadata": {},
   "source": [
    "# part 2\n"
   ]
  },
  {
   "cell_type": "code",
   "execution_count": 24,
   "metadata": {},
   "outputs": [],
   "source": [
    "data = pd.read_csv('data2.csv')"
   ]
  },
  {
   "cell_type": "code",
   "execution_count": 25,
   "metadata": {},
   "outputs": [
    {
     "data": {
      "text/html": [
       "<div>\n",
       "<style scoped>\n",
       "    .dataframe tbody tr th:only-of-type {\n",
       "        vertical-align: middle;\n",
       "    }\n",
       "\n",
       "    .dataframe tbody tr th {\n",
       "        vertical-align: top;\n",
       "    }\n",
       "\n",
       "    .dataframe thead th {\n",
       "        text-align: right;\n",
       "    }\n",
       "</style>\n",
       "<table border=\"1\" class=\"dataframe\">\n",
       "  <thead>\n",
       "    <tr style=\"text-align: right;\">\n",
       "      <th></th>\n",
       "      <th>x</th>\n",
       "      <th>y</th>\n",
       "    </tr>\n",
       "  </thead>\n",
       "  <tbody>\n",
       "    <tr>\n",
       "      <th>0</th>\n",
       "      <td>0.0</td>\n",
       "      <td>2137.883328</td>\n",
       "    </tr>\n",
       "    <tr>\n",
       "      <th>1</th>\n",
       "      <td>0.1</td>\n",
       "      <td>913.025002</td>\n",
       "    </tr>\n",
       "    <tr>\n",
       "      <th>2</th>\n",
       "      <td>0.2</td>\n",
       "      <td>-1055.282076</td>\n",
       "    </tr>\n",
       "    <tr>\n",
       "      <th>3</th>\n",
       "      <td>0.3</td>\n",
       "      <td>5462.955629</td>\n",
       "    </tr>\n",
       "    <tr>\n",
       "      <th>4</th>\n",
       "      <td>0.4</td>\n",
       "      <td>-2704.467669</td>\n",
       "    </tr>\n",
       "  </tbody>\n",
       "</table>\n",
       "</div>"
      ],
      "text/plain": [
       "     x            y\n",
       "0  0.0  2137.883328\n",
       "1  0.1   913.025002\n",
       "2  0.2 -1055.282076\n",
       "3  0.3  5462.955629\n",
       "4  0.4 -2704.467669"
      ]
     },
     "execution_count": 25,
     "metadata": {},
     "output_type": "execute_result"
    }
   ],
   "source": [
    "data.head()"
   ]
  },
  {
   "cell_type": "code",
   "execution_count": 26,
   "metadata": {},
   "outputs": [
    {
     "name": "stdout",
     "output_type": "stream",
     "text": [
      "<class 'pandas.core.frame.DataFrame'>\n",
      "RangeIndex: 240 entries, 0 to 239\n",
      "Data columns (total 2 columns):\n",
      " #   Column  Non-Null Count  Dtype  \n",
      "---  ------  --------------  -----  \n",
      " 0   x       240 non-null    float64\n",
      " 1   y       240 non-null    float64\n",
      "dtypes: float64(2)\n",
      "memory usage: 3.8 KB\n"
     ]
    }
   ],
   "source": [
    "data.info()"
   ]
  },
  {
   "cell_type": "code",
   "execution_count": 27,
   "metadata": {},
   "outputs": [
    {
     "data": {
      "text/html": [
       "<div>\n",
       "<style scoped>\n",
       "    .dataframe tbody tr th:only-of-type {\n",
       "        vertical-align: middle;\n",
       "    }\n",
       "\n",
       "    .dataframe tbody tr th {\n",
       "        vertical-align: top;\n",
       "    }\n",
       "\n",
       "    .dataframe thead th {\n",
       "        text-align: right;\n",
       "    }\n",
       "</style>\n",
       "<table border=\"1\" class=\"dataframe\">\n",
       "  <thead>\n",
       "    <tr style=\"text-align: right;\">\n",
       "      <th></th>\n",
       "      <th>count</th>\n",
       "      <th>mean</th>\n",
       "      <th>std</th>\n",
       "      <th>min</th>\n",
       "      <th>25%</th>\n",
       "      <th>50%</th>\n",
       "      <th>75%</th>\n",
       "      <th>max</th>\n",
       "    </tr>\n",
       "  </thead>\n",
       "  <tbody>\n",
       "    <tr>\n",
       "      <th>x</th>\n",
       "      <td>240.0</td>\n",
       "      <td>11.950000</td>\n",
       "      <td>6.942622</td>\n",
       "      <td>0.000000</td>\n",
       "      <td>5.975000</td>\n",
       "      <td>11.950000</td>\n",
       "      <td>17.925000</td>\n",
       "      <td>23.900000</td>\n",
       "    </tr>\n",
       "    <tr>\n",
       "      <th>y</th>\n",
       "      <td>240.0</td>\n",
       "      <td>3826.370144</td>\n",
       "      <td>4687.055597</td>\n",
       "      <td>-5774.231262</td>\n",
       "      <td>268.910441</td>\n",
       "      <td>3123.561976</td>\n",
       "      <td>6822.938649</td>\n",
       "      <td>19580.343309</td>\n",
       "    </tr>\n",
       "  </tbody>\n",
       "</table>\n",
       "</div>"
      ],
      "text/plain": [
       "   count         mean          std          min         25%          50%  \\\n",
       "x  240.0    11.950000     6.942622     0.000000    5.975000    11.950000   \n",
       "y  240.0  3826.370144  4687.055597 -5774.231262  268.910441  3123.561976   \n",
       "\n",
       "           75%           max  \n",
       "x    17.925000     23.900000  \n",
       "y  6822.938649  19580.343309  "
      ]
     },
     "execution_count": 27,
     "metadata": {},
     "output_type": "execute_result"
    }
   ],
   "source": [
    "data.describe().T"
   ]
  },
  {
   "cell_type": "code",
   "execution_count": 28,
   "metadata": {},
   "outputs": [
    {
     "data": {
      "text/plain": [
       "<matplotlib.collections.PathCollection at 0x1607f950>"
      ]
     },
     "execution_count": 28,
     "metadata": {},
     "output_type": "execute_result"
    },
    {
     "data": {
      "image/png": "[encoded data removed]",
      "text/plain": [
       "<Figure size 432x288 with 1 Axes>"
      ]
     },
     "metadata": {
      "needs_background": "light"
     },
     "output_type": "display_data"
    }
   ],
   "source": [
    " plt.scatter(data.x, data.y)"
   ]
  },
  {
   "cell_type": "code",
   "execution_count": 29,
   "metadata": {},
   "outputs": [],
   "source": [
    "def h_pol(x,W,b,k):\n",
    "    f = b\n",
    "    for i in range(k):\n",
    "       f += W[i]*(x**(i+1))\n",
    "    return f "
   ]
  },
  {
   "cell_type": "code",
   "execution_count": 30,
   "metadata": {},
   "outputs": [],
   "source": [
    "def emp_err_pol(X,Y,w,b,k):\n",
    "    n=len(X)\n",
    "    Ls=0\n",
    "    for i in range(n):\n",
    "        Ls+=pow(h_pol(X[i],w,b,k)-Y[i],2)\n",
    "    Ls=Ls/float(n)\n",
    "    return Ls"
   ]
  },
  {
   "cell_type": "code",
   "execution_count": 31,
   "metadata": {},
   "outputs": [],
   "source": [
    "def gradient_pol(X,Y,w,b,k):\n",
    "    dw=np.zeros((k,1))\n",
    "    db=0\n",
    "    n=len(X)\n",
    "    for i in range(n):\n",
    "        for j in range(k):\n",
    "            dw[j]+=(X[i]**(j+1))*(h_pol(X[i],w,b,k)-Y[i])\n",
    "        db += h_pol(X[i],w,b,k) - Y[i]\n",
    "    dw=[2*x/float(n) for x in dw]\n",
    "    db=2*db/float(n)\n",
    "    return np.array(dw),db[0]"
   ]
  },
  {
   "cell_type": "code",
   "execution_count": 32,
   "metadata": {},
   "outputs": [],
   "source": [
    "import random\n",
    "def gradient_descent_pol(X,Y,alpha,n_iter,k):\n",
    "    w= np.random.rand(k, 1)\n",
    "    b=0\n",
    "    loss=[]\n",
    "    loss.append(emp_err_pol(X,Y,w,b,k))\n",
    "    print(\"empirical error before : \" ,emp_err_pol(X,Y,w,b,k))\n",
    "    for i in range(n_iter):\n",
    "        dw,db = gradient_pol(X,Y,w,b,k)\n",
    "        for j in range(k):    \n",
    "            w[j] = w[j] - alpha * dw[j]\n",
    "        b = b - alpha * db\n",
    "        loss.append(emp_err_pol(X,Y,w,b,k))\n",
    "        \n",
    "    print(\"empirical error after : \" ,emp_err_pol(X,Y,w,b,k))\n",
    "\n",
    "    return w,b,loss"
   ]
  },
  {
   "cell_type": "code",
   "execution_count": 33,
   "metadata": {},
   "outputs": [],
   "source": [
    "data.x= [(x - np.mean(data.x))/(np.std(data.x)) for x in data.x]\n",
    "data.y= [(y - np.mean(data.y))/(np.std(data.y)) for y in data.y]\n",
    "#splitting data\n",
    "datatrain=data.sample(frac=0.70,random_state=16)\n",
    "datatest=data.drop(datatrain.index)\n",
    "X_train=np.array(datatrain.x)\n",
    "X_test=np.array(datatest.x)\n",
    "Y_train=np.array(datatrain.y)\n",
    "Y_test=np.array(datatest.y)"
   ]
  },
  {
   "cell_type": "code",
   "execution_count": 34,
   "metadata": {},
   "outputs": [
    {
     "name": "stdout",
     "output_type": "stream",
     "text": [
      "empirical error before :  [1.2407778]\n",
      "empirical error after :  [0.26792319]\n"
     ]
    },
    {
     "data": {
      "text/plain": [
       "<matplotlib.legend.Legend at 0x160a33d0>"
      ]
     },
     "execution_count": 34,
     "metadata": {},
     "output_type": "execute_result"
    },
    {
     "data": {
      "image/png": "[encoded data removed]",
      "text/plain": [
       "<Figure size 432x288 with 1 Axes>"
      ]
     },
     "metadata": {
      "needs_background": "light"
     },
     "output_type": "display_data"
    }
   ],
   "source": [
    "w,b,loss=gradient_descent_pol(X_train,Y_train,0.01,1000,2)\n",
    "w,b\n",
    "plt.plot(loss,label='empirical error')\n",
    "plt.legend(loc=0)"
   ]
  },
  {
   "cell_type": "code",
   "execution_count": 35,
   "metadata": {},
   "outputs": [
    {
     "data": {
      "text/plain": [
       "<matplotlib.legend.Legend at 0x160f38f0>"
      ]
     },
     "execution_count": 35,
     "metadata": {},
     "output_type": "execute_result"
    },
    {
     "data": {
      "image/png": "[encoded data removed]",
      "text/plain": [
       "<Figure size 432x288 with 1 Axes>"
      ]
     },
     "metadata": {
      "needs_background": "light"
     },
     "output_type": "display_data"
    }
   ],
   "source": [
    "plt.scatter(X_test, Y_test,label='testing data ')\n",
    "\n",
    "plt.plot(X_test,h_pol(X_test,w,b,2),  color='red',label='predicting model')\n",
    "\n",
    "plt.scatter(X_train, Y_train,color='orange',label='training data ')\n",
    "plt.legend(loc=0)"
   ]
  },
  {
   "cell_type": "code",
   "execution_count": 36,
   "metadata": {},
   "outputs": [],
   "source": [
    "def predict_pol(X,w,b,k):\n",
    "    Y_pred=[]\n",
    "    for i in range( len(X)):\n",
    "        Y_pred.append(h_pol(X[i],w,b,k))\n",
    "    return Y_pred"
   ]
  },
  {
   "cell_type": "code",
   "execution_count": 37,
   "metadata": {},
   "outputs": [],
   "source": [
    "Y_pred=predict_pol(X_test,w,b,2)"
   ]
  },
  {
   "cell_type": "code",
   "execution_count": 38,
   "metadata": {},
   "outputs": [],
   "source": [
    "def gen_error_pol(X,Y,w,b,k):\n",
    "    n=len(X)\n",
    "    Ls=0\n",
    "    for i in range(n):\n",
    "        Ls+=pow(h_pol(X[i],w,b,k)-Y[i],2)\n",
    "    Ls=Ls/float(n)\n",
    "    return Ls"
   ]
  },
  {
   "cell_type": "code",
   "execution_count": 39,
   "metadata": {},
   "outputs": [
    {
     "data": {
      "text/plain": [
       "[array([-0.44400798]),\n",
       " array([-0.46556252]),\n",
       " array([-0.48636564]),\n",
       " array([-0.52571763]),\n",
       " array([-0.54426651]),\n",
       " array([-0.55325917]),\n",
       " array([-0.56206397]),\n",
       " array([-0.57911002]),\n",
       " array([-0.60327018]),\n",
       " array([-0.61843769]),\n",
       " array([-0.62573967]),\n",
       " array([-0.65306903]),\n",
       " array([-0.67159358]),\n",
       " array([-0.70357065]),\n",
       " array([-0.71702316]),\n",
       " array([-0.72113162]),\n",
       " array([-0.73232988]),\n",
       " array([-0.73885612]),\n",
       " array([-0.76223385]),\n",
       " array([-0.76401511]),\n",
       " array([-0.76337859]),\n",
       " array([-0.75989995]),\n",
       " array([-0.75132493]),\n",
       " array([-0.71592878]),\n",
       " array([-0.70233036]),\n",
       " array([-0.68156917]),\n",
       " array([-0.67590924]),\n",
       " array([-0.62386707]),\n",
       " array([-0.57694559]),\n",
       " array([-0.56846785]),\n",
       " array([-0.55094882]),\n",
       " array([-0.51365651]),\n",
       " array([-0.5038638]),\n",
       " array([-0.49388324]),\n",
       " array([-0.46281442]),\n",
       " array([-0.45208244]),\n",
       " array([-0.44116261]),\n",
       " array([-0.41875938]),\n",
       " array([-0.39560474]),\n",
       " array([-0.37169868]),\n",
       " array([-0.35946387]),\n",
       " array([-0.34704121]),\n",
       " array([-0.13815882]),\n",
       " array([-0.1227305]),\n",
       " array([-0.10711433]),\n",
       " array([-0.07531842]),\n",
       " array([0.09493236]),\n",
       " array([0.11299064]),\n",
       " array([0.13123677]),\n",
       " array([0.16829258]),\n",
       " array([0.22528521]),\n",
       " array([0.30390532]),\n",
       " array([0.34434251]),\n",
       " array([0.36484288]),\n",
       " array([0.53560858]),\n",
       " array([0.58017854]),\n",
       " array([0.69489089]),\n",
       " array([0.91320789]),\n",
       " array([1.06720598]),\n",
       " array([1.09352981]),\n",
       " array([1.14674105]),\n",
       " array([1.17362844]),\n",
       " array([1.20070369]),\n",
       " array([1.28305657]),\n",
       " array([1.59948183]),\n",
       " array([1.62937489]),\n",
       " array([1.6594558]),\n",
       " array([1.68972456]),\n",
       " array([1.84388618]),\n",
       " array([1.97059685]),\n",
       " array([2.0350793]),\n",
       " array([2.13321188])]"
      ]
     },
     "execution_count": 39,
     "metadata": {},
     "output_type": "execute_result"
    }
   ],
   "source": [
    "Y_pred"
   ]
  },
  {
   "cell_type": "code",
   "execution_count": 40,
   "metadata": {},
   "outputs": [
    {
     "name": "stdout",
     "output_type": "stream",
     "text": [
      "generalization error :  0.20801009639189852\n"
     ]
    }
   ],
   "source": [
    "print(\"generalization error : \" ,gen_error_pol(X_test,Y_test,w,b,2)[0])"
   ]
  },
  {
   "cell_type": "markdown",
   "metadata": {},
   "source": [
    "# Part 3"
   ]
  },
  {
   "cell_type": "code",
   "execution_count": 41,
   "metadata": {},
   "outputs": [],
   "source": [
    "data3 = pd.read_csv('data2.csv')"
   ]
  },
  {
   "cell_type": "code",
   "execution_count": 42,
   "metadata": {},
   "outputs": [],
   "source": [
    "import math \n",
    "def sigmoid(x,w,b):\n",
    "    return 1.0/(1+np.exp(-(x*w + b)))"
   ]
  },
  {
   "cell_type": "code",
   "execution_count": null,
   "metadata": {},
   "outputs": [],
   "source": []
  },
  {
   "cell_type": "code",
   "execution_count": 43,
   "metadata": {},
   "outputs": [],
   "source": [
    "def err(X,Y,w,b):\n",
    "    n=len(X)\n",
    "    Ls=0\n",
    "    for i in range(n):\n",
    "        Ls+=Y[i]*math.log(sigmoid(X[i],w,b))+(1-Y[i])*math.log(1-sigmoid(X[i],w,b))\n",
    "    Ls=-Ls/float(n)\n",
    "    return Ls"
   ]
  },
  {
   "cell_type": "code",
   "execution_count": 44,
   "metadata": {},
   "outputs": [],
   "source": [
    "def gradient_log(X,Y,w,b):\n",
    "    dw=0\n",
    "    db=0\n",
    "    n=len(X)\n",
    "    for i in range(n):\n",
    "        dw+=(sigmoid(X[i],w,b)-Y[i])*X[i]    \n",
    "        db+=(sigmoid(X[i],w,b)-Y[i])\n",
    "    dw=dw/float(n)\n",
    "    db=db/float(n)\n",
    "    return dw,db"
   ]
  },
  {
   "cell_type": "code",
   "execution_count": 45,
   "metadata": {},
   "outputs": [],
   "source": [
    "import random\n",
    "def gradient_descent_log(X,Y,alpha,n_iter):\n",
    "    w=0\n",
    "    b=0\n",
    "    n=float(len(X))\n",
    "    loss=[]\n",
    "    loss.append(err(X,Y,w,b))\n",
    "    print(\"error before : \" ,err(X,Y,w,b))\n",
    "    for i in range(n_iter):\n",
    "        dw,db = gradient_log(X,Y,w,b)\n",
    "        \n",
    "        b = b - alpha * db\n",
    "        w = w - alpha * dw\n",
    "        loss.append(err(X,Y,w,b))\n",
    "    print(\"error after : \" ,err(X,Y,w,b))\n",
    "\n",
    "    return w,b,loss"
   ]
  },
  {
   "cell_type": "code",
   "execution_count": 46,
   "metadata": {},
   "outputs": [
    {
     "name": "stdout",
     "output_type": "stream",
     "text": [
      "error before :  0.6931471805599465\n"
     ]
    },
    {
     "ename": "ValueError",
     "evalue": "math domain error",
     "output_type": "error",
     "traceback": [
      "\u001b[1;31m---------------------------------------------------------------------------\u001b[0m",
      "\u001b[1;31mValueError\u001b[0m                                Traceback (most recent call last)",
      "\u001b[1;32m<ipython-input-46-1d28778c7f01>\u001b[0m in \u001b[0;36m<module>\u001b[1;34m\u001b[0m\n\u001b[1;32m----> 1\u001b[1;33m \u001b[0mw\u001b[0m\u001b[1;33m,\u001b[0m\u001b[0mb\u001b[0m\u001b[1;33m,\u001b[0m\u001b[0mloss\u001b[0m\u001b[1;33m=\u001b[0m\u001b[0mgradient_descent_log\u001b[0m\u001b[1;33m(\u001b[0m\u001b[0mX_train\u001b[0m\u001b[1;33m,\u001b[0m\u001b[0mY_train\u001b[0m\u001b[1;33m,\u001b[0m\u001b[1;36m0.01\u001b[0m\u001b[1;33m,\u001b[0m\u001b[1;36m10000\u001b[0m\u001b[1;33m)\u001b[0m\u001b[1;33m\u001b[0m\u001b[0m\n\u001b[0m\u001b[0;32m      2\u001b[0m \u001b[0mw\u001b[0m\u001b[1;33m,\u001b[0m\u001b[0mb\u001b[0m\u001b[1;33m\u001b[0m\u001b[0m\n\u001b[0;32m      3\u001b[0m \u001b[0mplt\u001b[0m\u001b[1;33m.\u001b[0m\u001b[0mplot\u001b[0m\u001b[1;33m(\u001b[0m\u001b[0mloss\u001b[0m\u001b[1;33m)\u001b[0m\u001b[1;33m\u001b[0m\u001b[0m\n",
      "\u001b[1;32m<ipython-input-45-a2daa4859752>\u001b[0m in \u001b[0;36mgradient_descent_log\u001b[1;34m(X, Y, alpha, n_iter)\u001b[0m\n\u001b[0;32m     12\u001b[0m         \u001b[0mb\u001b[0m \u001b[1;33m=\u001b[0m \u001b[0mb\u001b[0m \u001b[1;33m-\u001b[0m \u001b[0malpha\u001b[0m \u001b[1;33m*\u001b[0m \u001b[0mdb\u001b[0m\u001b[1;33m\u001b[0m\u001b[0m\n\u001b[0;32m     13\u001b[0m         \u001b[0mw\u001b[0m \u001b[1;33m=\u001b[0m \u001b[0mw\u001b[0m \u001b[1;33m-\u001b[0m \u001b[0malpha\u001b[0m \u001b[1;33m*\u001b[0m \u001b[0mdw\u001b[0m\u001b[1;33m\u001b[0m\u001b[0m\n\u001b[1;32m---> 14\u001b[1;33m         \u001b[0mloss\u001b[0m\u001b[1;33m.\u001b[0m\u001b[0mappend\u001b[0m\u001b[1;33m(\u001b[0m\u001b[0merr\u001b[0m\u001b[1;33m(\u001b[0m\u001b[0mX\u001b[0m\u001b[1;33m,\u001b[0m\u001b[0mY\u001b[0m\u001b[1;33m,\u001b[0m\u001b[0mw\u001b[0m\u001b[1;33m,\u001b[0m\u001b[0mb\u001b[0m\u001b[1;33m)\u001b[0m\u001b[1;33m)\u001b[0m\u001b[1;33m\u001b[0m\u001b[0m\n\u001b[0m\u001b[0;32m     15\u001b[0m     \u001b[0mprint\u001b[0m\u001b[1;33m(\u001b[0m\u001b[1;34m\"error after : \"\u001b[0m \u001b[1;33m,\u001b[0m\u001b[0merr\u001b[0m\u001b[1;33m(\u001b[0m\u001b[0mX\u001b[0m\u001b[1;33m,\u001b[0m\u001b[0mY\u001b[0m\u001b[1;33m,\u001b[0m\u001b[0mw\u001b[0m\u001b[1;33m,\u001b[0m\u001b[0mb\u001b[0m\u001b[1;33m)\u001b[0m\u001b[1;33m)\u001b[0m\u001b[1;33m\u001b[0m\u001b[0m\n\u001b[0;32m     16\u001b[0m \u001b[1;33m\u001b[0m\u001b[0m\n",
      "\u001b[1;32m<ipython-input-43-49ff5f757673>\u001b[0m in \u001b[0;36merr\u001b[1;34m(X, Y, w, b)\u001b[0m\n\u001b[0;32m      3\u001b[0m     \u001b[0mLs\u001b[0m\u001b[1;33m=\u001b[0m\u001b[1;36m0\u001b[0m\u001b[1;33m\u001b[0m\u001b[0m\n\u001b[0;32m      4\u001b[0m     \u001b[1;32mfor\u001b[0m \u001b[0mi\u001b[0m \u001b[1;32min\u001b[0m \u001b[0mrange\u001b[0m\u001b[1;33m(\u001b[0m\u001b[0mn\u001b[0m\u001b[1;33m)\u001b[0m\u001b[1;33m:\u001b[0m\u001b[1;33m\u001b[0m\u001b[0m\n\u001b[1;32m----> 5\u001b[1;33m         \u001b[0mLs\u001b[0m\u001b[1;33m+=\u001b[0m\u001b[0mY\u001b[0m\u001b[1;33m[\u001b[0m\u001b[0mi\u001b[0m\u001b[1;33m]\u001b[0m\u001b[1;33m*\u001b[0m\u001b[0mmath\u001b[0m\u001b[1;33m.\u001b[0m\u001b[0mlog\u001b[0m\u001b[1;33m(\u001b[0m\u001b[0msigmoid\u001b[0m\u001b[1;33m(\u001b[0m\u001b[0mX\u001b[0m\u001b[1;33m[\u001b[0m\u001b[0mi\u001b[0m\u001b[1;33m]\u001b[0m\u001b[1;33m,\u001b[0m\u001b[0mw\u001b[0m\u001b[1;33m,\u001b[0m\u001b[0mb\u001b[0m\u001b[1;33m)\u001b[0m\u001b[1;33m)\u001b[0m\u001b[1;33m+\u001b[0m\u001b[1;33m(\u001b[0m\u001b[1;36m1\u001b[0m\u001b[1;33m-\u001b[0m\u001b[0mY\u001b[0m\u001b[1;33m[\u001b[0m\u001b[0mi\u001b[0m\u001b[1;33m]\u001b[0m\u001b[1;33m)\u001b[0m\u001b[1;33m*\u001b[0m\u001b[0mmath\u001b[0m\u001b[1;33m.\u001b[0m\u001b[0mlog\u001b[0m\u001b[1;33m(\u001b[0m\u001b[1;36m1\u001b[0m\u001b[1;33m-\u001b[0m\u001b[0msigmoid\u001b[0m\u001b[1;33m(\u001b[0m\u001b[0mX\u001b[0m\u001b[1;33m[\u001b[0m\u001b[0mi\u001b[0m\u001b[1;33m]\u001b[0m\u001b[1;33m,\u001b[0m\u001b[0mw\u001b[0m\u001b[1;33m,\u001b[0m\u001b[0mb\u001b[0m\u001b[1;33m)\u001b[0m\u001b[1;33m)\u001b[0m\u001b[1;33m\u001b[0m\u001b[0m\n\u001b[0m\u001b[0;32m      6\u001b[0m     \u001b[0mLs\u001b[0m\u001b[1;33m=\u001b[0m\u001b[1;33m-\u001b[0m\u001b[0mLs\u001b[0m\u001b[1;33m/\u001b[0m\u001b[0mfloat\u001b[0m\u001b[1;33m(\u001b[0m\u001b[0mn\u001b[0m\u001b[1;33m)\u001b[0m\u001b[1;33m\u001b[0m\u001b[0m\n\u001b[0;32m      7\u001b[0m     \u001b[1;32mreturn\u001b[0m \u001b[0mLs\u001b[0m\u001b[1;33m\u001b[0m\u001b[0m\n",
      "\u001b[1;31mValueError\u001b[0m: math domain error"
     ]
    }
   ],
   "source": [
    "w,b,loss=gradient_descent_log(X_train,Y_train,0.01,10000)\n",
    "w,b\n",
    "plt.plot(loss)"
   ]
  },
  {
   "cell_type": "code",
   "execution_count": null,
   "metadata": {},
   "outputs": [],
   "source": [
    "plt.scatter(X_test, Y_test,label='testing data ')\n",
    "\n",
    "plt.plot(X_test,sigmoid(X_test,w,b),  color='red',label='decision function')\n",
    "\n",
    "plt.scatter(X_train, Y_train,color='orange',label='training data ')\n",
    "plt.legend(loc=0)"
   ]
  },
  {
   "cell_type": "code",
   "execution_count": null,
   "metadata": {},
   "outputs": [],
   "source": [
    "sigmoid(X_test,w,b)"
   ]
  },
  {
   "cell_type": "code",
   "execution_count": null,
   "metadata": {},
   "outputs": [],
   "source": [
    "err(X_test,Y_test,w,b)"
   ]
  },
  {
   "cell_type": "code",
   "execution_count": null,
   "metadata": {},
   "outputs": [],
   "source": []
  }
 ],
 "metadata": {
  "kernelspec": {
   "display_name": "Python 3",
   "language": "python",
   "name": "python3"
  },
  "language_info": {
   "codemirror_mode": {
    "name": "ipython",
    "version": 3
   },
   "file_extension": ".py",
   "mimetype": "text/x-python",
   "name": "python",
   "nbconvert_exporter": "python",
   "pygments_lexer": "ipython3",
   "version": "3.7.0"
  }
 },
 "nbformat": 4,
 "nbformat_minor": 2
}
